{
 "cells": [
  {
   "cell_type": "code",
   "execution_count": 1,
   "id": "4611ff3b",
   "metadata": {},
   "outputs": [],
   "source": [
    "import numpy as np"
   ]
  },
  {
   "cell_type": "code",
   "execution_count": 2,
   "id": "a98dd2e1",
   "metadata": {},
   "outputs": [],
   "source": [
    "p1 = \"/Users/abhi/Work/Projects/Hyperbolitcity-Gravitational-Collapse/code-f-phi/output/Phase-Space/Runs_all/Runs/Runs_rl_8.0_ru_12.0/Run_nx_4000_nt_4_Wed_Aug_10_18_33/Wed_Aug_10_18_33_52_M_0.00e+00_A_1.60e-01_ls_5.00e-01_lexp_0.00e+00_mu_0.00e+00\""
   ]
  },
  {
   "cell_type": "code",
   "execution_count": 5,
   "id": "c55f314b",
   "metadata": {},
   "outputs": [],
   "source": [
    "p2 = \"/Users/abhi/Work/Projects/Hyperbolitcity-Gravitational-Collapse/code-f-phi/output/Phase-Space/Runs_all/Runs/Runs_rl_8.0_ru_12.0/Run_nx_4000_nt_4_Wed_Aug_10_18_25/Wed_Aug_10_18_25_56_M_0.00e+00_A_1.60e-01_ls_5.00e-01_lexp_0.00e+00_mu_0.00e+00\""
   ]
  },
  {
   "cell_type": "code",
   "execution_count": 13,
   "id": "1f678b4e",
   "metadata": {},
   "outputs": [],
   "source": [
    "n1 = np.genfromtxt(p1 + \"/lapse.dat\", dtype=float, delimiter= \",\")\n",
    "n2 = np.genfromtxt(p2 + \"/lapse.dat\", dtype=float, delimiter= \",\")"
   ]
  },
  {
   "cell_type": "code",
   "execution_count": 14,
   "id": "1459904e",
   "metadata": {},
   "outputs": [],
   "source": [
    "s1 = np.genfromtxt(p1 + \"/shift.dat\", dtype=float, delimiter= \",\")\n",
    "s2 = np.genfromtxt(p2 + \"/shift.dat\", dtype=float, delimiter= \",\")"
   ]
  },
  {
   "cell_type": "code",
   "execution_count": 15,
   "id": "6f2de4e3",
   "metadata": {},
   "outputs": [
    {
     "data": {
      "text/plain": [
       "array([[1.00000000e-10, 7.06508942e-11, 5.76762975e-11, ...,\n",
       "        7.27882112e-03, 5.14255221e-03, 0.00000000e+00],\n",
       "       [1.00000000e-10, 7.06508942e-11, 5.76762975e-11, ...,\n",
       "        7.27882112e-03, 5.14255221e-03, 0.00000000e+00],\n",
       "       [1.00000000e-10, 7.06508942e-11, 5.76762975e-11, ...,\n",
       "        7.27882111e-03, 5.14255221e-03, 0.00000000e+00],\n",
       "       [1.00000000e-10, 7.06508942e-11, 5.76762975e-11, ...,\n",
       "        7.27882111e-03, 5.14255221e-03, 0.00000000e+00],\n",
       "       [1.00000000e-10, 7.06508942e-11, 5.76762975e-11, ...,\n",
       "        7.27882111e-03, 5.14255220e-03, 0.00000000e+00]])"
      ]
     },
     "execution_count": 15,
     "metadata": {},
     "output_type": "execute_result"
    }
   ],
   "source": [
    "s1"
   ]
  },
  {
   "cell_type": "code",
   "execution_count": 16,
   "id": "a05a51fa",
   "metadata": {},
   "outputs": [
    {
     "data": {
      "text/plain": [
       "array([1.00000000e-10, 7.06508942e-11, 5.76762975e-11, ...,\n",
       "       7.27882112e-03, 0.00000000e+00, 0.00000000e+00])"
      ]
     },
     "execution_count": 16,
     "metadata": {},
     "output_type": "execute_result"
    }
   ],
   "source": [
    "s2"
   ]
  },
  {
   "cell_type": "code",
   "execution_count": 19,
   "id": "1613a16d",
   "metadata": {},
   "outputs": [],
   "source": [
    "import matplotlib.pyplot as plt"
   ]
  },
  {
   "cell_type": "code",
   "execution_count": 27,
   "id": "23ba9fa6",
   "metadata": {},
   "outputs": [
    {
     "data": {
      "text/plain": [
       "(3990.0, 4000.0)"
      ]
     },
     "execution_count": 27,
     "metadata": {},
     "output_type": "execute_result"
    },
    {
     "data": {
      "image/png": "[encoded data removed]",
      "text/plain": [
       "<Figure size 432x288 with 1 Axes>"
      ]
     },
     "metadata": {
      "needs_background": "light"
     },
     "output_type": "display_data"
    }
   ],
   "source": [
    "plt.plot(n2)\n",
    "plt.xlim(3990,4000)"
   ]
  },
  {
   "cell_type": "code",
   "execution_count": 18,
   "id": "0a4a82c1",
   "metadata": {},
   "outputs": [
    {
     "data": {
      "text/plain": [
       "array([[1.75084148, 1.75084148, 1.75084148, ..., 1.        , 1.        ,\n",
       "        1.        ],\n",
       "       [1.75117751, 1.75117751, 1.75117751, ..., 1.        , 1.        ,\n",
       "        1.        ],\n",
       "       [1.75151313, 1.75151313, 1.75151313, ..., 1.        , 1.        ,\n",
       "        1.        ],\n",
       "       [1.75184805, 1.75184805, 1.75184805, ..., 1.        , 1.        ,\n",
       "        1.        ],\n",
       "       [1.75218579, 1.75218579, 1.75218579, ..., 1.        , 1.        ,\n",
       "        1.        ]])"
      ]
     },
     "execution_count": 18,
     "metadata": {},
     "output_type": "execute_result"
    }
   ],
   "source": [
    "n1"
   ]
  },
  {
   "cell_type": "code",
   "execution_count": null,
   "id": "f8d4fba7",
   "metadata": {},
   "outputs": [],
   "source": []
  }
 ],
 "metadata": {
  "kernelspec": {
   "display_name": "Python 3 (ipykernel)",
   "language": "python",
   "name": "python3"
  },
  "language_info": {
   "codemirror_mode": {
    "name": "ipython",
    "version": 3
   },
   "file_extension": ".py",
   "mimetype": "text/x-python",
   "name": "python",
   "nbconvert_exporter": "python",
   "pygments_lexer": "ipython3",
   "version": "3.9.7"
  }
 },
 "nbformat": 4,
 "nbformat_minor": 5
}
