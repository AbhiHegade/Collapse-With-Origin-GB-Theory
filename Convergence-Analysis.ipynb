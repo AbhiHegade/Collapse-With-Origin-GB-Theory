{
 "cells": [
  {
   "cell_type": "code",
   "execution_count": null,
   "id": "61729b80",
   "metadata": {},
   "outputs": [],
   "source": [
    "import numpy as np\n",
    "import matplotlib.pyplot as plt\n",
    "# import os\n",
    "\n",
    "# path_home = os.path.abspath(os.getcwd())\n",
    "\n",
    "with open(\"./4h/output.out\", \"r\") as f:\n",
    "    \n",
    "    for line in f:\n",
    "        if line.startswith(\"nt = \"):\n",
    "            nt_4h = int(line[4:])\n",
    "        elif line.startswith(\"t_save_steps = \"):\n",
    "            tss_4h = int(line[len(\"t_save_steps = \"):])\n",
    "        elif line.startswith(\"dt = \"):\n",
    "            dt_4h = float(line[len(\"dt = \"):])\n",
    "        \n",
    "    ts_array = (np.arange(0,nt_4h,1)[0::tss_4h])*dt_4h\n",
    "            \n",
    "\n",
    "res_4h = np.genfromtxt(\"./{}/e_rr_res.dat\".format(\"4h\"), dtype=float, delimiter=\",\")\n",
    "phi_4h = np.genfromtxt(\"./{}/phi.dat\".format(\"4h\"), dtype=float, delimiter=\",\")\n",
    "x_4h = np.genfromtxt(\"./{}/x.dat\".format(\"4h\"), dtype=float, delimiter=\",\")\n",
    "\n",
    "res_2h = np.genfromtxt(\"./{}/e_rr_res.dat\".format(\"2h\"), dtype=float, delimiter=\",\")\n",
    "phi_2h = np.genfromtxt(\"./{}/phi.dat\".format(\"2h\"), dtype=float, delimiter=\",\")\n",
    "x_2h = np.genfromtxt(\"./{}/x.dat\".format(\"2h\"), dtype=float, delimiter=\",\")\n",
    "\n",
    "res_h = np.genfromtxt(\"./{}/e_rr_res.dat\".format(\"h\"), dtype=float, delimiter=\",\")\n",
    "phi_h = np.genfromtxt(\"./{}/phi.dat\".format(\"h\"), dtype=float, delimiter=\",\")\n",
    "x_h = np.genfromtxt(\"./{}/x.dat\".format(\"h\"), dtype=float, delimiter=\",\")\n",
    "\n",
    "def get_l1_norm(arr):\n",
    "    r_arr = np.zeros(len(arr))\n",
    "    for j in range(len(arr)):\n",
    "        r_arr[j] = np.sum(np.abs(arr[j]))/len(arr[j])\n",
    "    return r_arr\n",
    "\n",
    "res_4h_t = get_l1_norm(res_4h)\n",
    "res_2h_t = get_l1_norm(res_2h)\n",
    "res_h_t = get_l1_norm(res_h)\n",
    "\n",
    "# plt.plot(res_4h_t,label = \"$4h$\")\n",
    "# plt.plot(res_2h_t,label = \"$2h$\")\n",
    "# plt.plot(res_h_t,label = \"$h$\")\n",
    "# plt.yscale('log')\n",
    "# plt.ylabel(r\"$\\left|E_{\\mathrm{rr}} \\right|_{\\ell^{1}}$\")\n",
    "# plt.xlabel(\"$t$\")\n",
    "# plt.legend()\n",
    "# plt.tight_layout()\n",
    "# plt.show()"
   ]
  },
  {
   "cell_type": "code",
   "execution_count": null,
   "id": "c06d9c5c",
   "metadata": {},
   "outputs": [],
   "source": []
  }
 ],
 "metadata": {
  "kernelspec": {
   "display_name": "Python 3 (ipykernel)",
   "language": "python",
   "name": "python3"
  },
  "language_info": {
   "codemirror_mode": {
    "name": "ipython",
    "version": 3
   },
   "file_extension": ".py",
   "mimetype": "text/x-python",
   "name": "python",
   "nbconvert_exporter": "python",
   "pygments_lexer": "ipython3",
   "version": "3.9.7"
  }
 },
 "nbformat": 4,
 "nbformat_minor": 5
}
