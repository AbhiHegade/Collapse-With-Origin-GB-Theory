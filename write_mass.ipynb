{
 "cells": [
  {
   "cell_type": "code",
   "execution_count": 5,
   "id": "a4729907",
   "metadata": {},
   "outputs": [],
   "source": [
    "from sim_class import Sim\n",
    "import numpy as np\n",
    "import os\n",
    "import glob\n",
    "\n",
    "sim = Sim()\n",
    "sim.slurm = False\n",
    "sim.animscript = \"./Animation-Script.ipynb\"\n",
    "sim.nx = 10000\n",
    "sim.nt = 10000\n",
    "sim.save_steps = int(sim.nt/10)\n",
    "sim.initial_mass = 0\n",
    "sim.exc_i = 0\n",
    "sim.rl = 8.\n",
    "sim.ru =12.\n",
    "sim.collapse_and_bh = 1;\n",
    "\n",
    "out_path = \"/Users/abhi/Work/Projects/Hyperbolitcity-Gravitational-Collapse/code-f-phi/output/Phase-Space/Shift-Symmetric-Theory/Data-Regions/Data_fs\"\n",
    "sim.out_dir = out_path + \"/Runs\"\n",
    "if not os.path.exists(sim.out_dir):\n",
    "    os.makedirs(sim.out_dir)\n",
    "\n",
    "path_names = glob.glob(out_path + \"/*.dat\")"
   ]
  },
  {
   "cell_type": "code",
   "execution_count": 53,
   "id": "161fc513",
   "metadata": {},
   "outputs": [],
   "source": [
    "def write_mass(path_dir, keywords):\n",
    "    w_low = keywords[0]\n",
    "    w_high = keywords[1]\n",
    "    path_names = glob.glob(path_dir + \"/*.dat\")\n",
    "    for j in range(len(path_names)):\n",
    "        with open(path_names[j]) as f:\n",
    "            get_all=f.readlines()\n",
    "            for i, line in enumerate(get_all):\n",
    "                if line.startswith(\"l = \"):\n",
    "                    index = len(\"l = \")\n",
    "                    l = float(line[index:])\n",
    "                if line.startswith(w_low,len(line) - len(w_low+\"\\n\")):\n",
    "                    words = line.split(\"; \")\n",
    "                    A_low = float(words[0][len(\"A_low = \"):])\n",
    "                    M_low = sim.compute_initial_mass(l,A_low)\n",
    "                    i_low = i\n",
    "                    line_low = \"A_low = {}; M_init = {}; {}\\n\".format(A_low,M_low,w_low)\n",
    "                if line.startswith(w_high, len(line) -len(w_high) ):\n",
    "                    words = line.split(\"; \")\n",
    "                    print(words)\n",
    "                    A_high = float(words[0][len(\"A_high = \"):])\n",
    "                    M_high = sim.compute_initial_mass(l,A_high)\n",
    "                    line_high = \"A_high = {}; M_init = {}; {}\".format(A_high, M_high, w_high)\n",
    "                    i_high = i \n",
    "\n",
    "        with open(path_names[j], 'w') as f:\n",
    "            for i, line in enumerate(get_all):\n",
    "                if i==i_low:\n",
    "                    f.writelines(line_low)\n",
    "                elif i==i_high:\n",
    "                    f.writelines(line_high)\n",
    "                else:\n",
    "                    f.writelines(line)\n",
    "    print(\"done\")"
   ]
  },
  {
   "cell_type": "code",
   "execution_count": 57,
   "id": "33b53466",
   "metadata": {},
   "outputs": [],
   "source": [
    "path_dir = \"/Users/abhi/Work/Projects/Hyperbolitcity-Gravitational-Collapse/code-f-phi/output/Phase-Space/Shift-Symmetric-Theory/Data-Regions/Data_bh_init/collapse-to-bh\""
   ]
  },
  {
   "cell_type": "code",
   "execution_count": 59,
   "id": "e5c05707",
   "metadata": {},
   "outputs": [
    {
     "name": "stdout",
     "output_type": "stream",
     "text": [
      "['A_high = 0.40185546875', 'bh\\n']\n",
      "done\n"
     ]
    }
   ],
   "source": [
    "write_mass(path_dir, [\"collapse\", \"bh\\n\"])"
   ]
  },
  {
   "cell_type": "code",
   "execution_count": 51,
   "id": "154d36f4",
   "metadata": {},
   "outputs": [
    {
     "name": "stdout",
     "output_type": "stream",
     "text": [
      "['run_type = flat_space_fs_to_bh\\n']\n",
      "['l = 0.0\\n']\n",
      "['A_low = 0.025\\n']\n",
      "['A_high = 0.1\\n']\n",
      "['fs', 'Amp = 0.0625\\n']\n",
      "['fs', 'Amp = 0.08125\\n']\n",
      "['naked_elliptic_region', 'Amp = 0.09062500000000001\\n']\n",
      "['Run finished.\\n']\n",
      "['A_low = 0.08125', 'flat_space\\n']\n",
      "['A_high = 0.09062500000000001', 'bh\\n']\n"
     ]
    }
   ],
   "source": [
    "with open(path_dir+\"/record_0.0.dat\") as f:\n",
    "    for line in f:\n",
    "        print(line.split(\"; \"))"
   ]
  },
  {
   "cell_type": "code",
   "execution_count": null,
   "id": "56a91fc5",
   "metadata": {},
   "outputs": [],
   "source": []
  }
 ],
 "metadata": {
  "kernelspec": {
   "display_name": "Python 3 (ipykernel)",
   "language": "python",
   "name": "python3"
  },
  "language_info": {
   "codemirror_mode": {
    "name": "ipython",
    "version": 3
   },
   "file_extension": ".py",
   "mimetype": "text/x-python",
   "name": "python",
   "nbconvert_exporter": "python",
   "pygments_lexer": "ipython3",
   "version": "3.9.7"
  }
 },
 "nbformat": 4,
 "nbformat_minor": 5
}
