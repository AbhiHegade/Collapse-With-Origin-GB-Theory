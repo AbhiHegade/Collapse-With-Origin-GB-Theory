{
 "cells": [
  {
   "cell_type": "code",
   "execution_count": 2,
   "id": "75ecf23e",
   "metadata": {},
   "outputs": [],
   "source": [
    "import numpy as np\n",
    "import matplotlib.pyplot as plt\n",
    "from matplotlib.animation import FuncAnimation\n",
    "from IPython.display import HTML\n",
    "from matplotlib import animation\n",
    "#========================================================================\n",
    "# with open(\"./sim_params.txt\") as f:\n",
    "#     for line in f:\n",
    "#         if line.startswith(\"l \"):\n",
    "#             index = len(\"l \")\n",
    "#             l_val = float(line[index: ])\n",
    "           \n",
    "#         elif line.startswith(\"A \"):\n",
    "#             index = len(\"A \")\n",
    "#             A_val = float(line[index: ])\n",
    "            \n",
    "with open(\"./output.out\") as f:\n",
    "    for line in f:\n",
    "        pass\n",
    "    run_status = line\n",
    "#========================================================================\n",
    "phi = np.genfromtxt(\"./phi.dat\", dtype=float, delimiter=\",\")\n",
    "p = np.genfromtxt(\"./dt_phi.dat\", dtype=float, delimiter=\",\")\n",
    "q = np.genfromtxt(\"./dr_phi.dat\", dtype=float, delimiter=\",\")\n",
    "s = np.genfromtxt(\"./shift.dat\", dtype=float, delimiter=\",\")\n",
    "n = np.genfromtxt(\"./lapse.dat\", dtype=float, delimiter=\",\")\n",
    "#gb = np.genfromtxt(\"./gb.dat\", dtype=float, delimiter=\",\")\n",
    "r = np.genfromtxt(\"./r.dat\", dtype = float, delimiter = \",\")\n",
    "x = np.genfromtxt(\"./x.dat\", dtype=float, delimiter=\",\")\n",
    "ingoing = np.genfromtxt(\"./ingoing.dat\", dtype=float, delimiter=\",\")\n",
    "outgoing = np.genfromtxt(\"./outgoing.dat\", dtype=float, delimiter=\",\")\n",
    "ncc_in = np.genfromtxt(\"./ncc_in.dat\", dtype = float, delimiter = \",\")\n",
    "ncc_out = np.genfromtxt(\"./ncc_out.dat\", dtype = float, delimiter = \",\")\n",
    "res = np.genfromtxt(\"./e_rr_res.dat\", dtype=float, delimiter=\",\")\n",
    "exci_dat = np.genfromtxt(\"./exci.dat\", dtype=int, delimiter = \" \")\n",
    "ah_dat = np.genfromtxt(\"./ah.dat\", dtype=int, delimiter= \" \")\n",
    "rad_ah = np.array([r[x] for x in ah_dat])\n",
    "rad_ex = np.array([r[x] for x in exci_dat])\n",
    "ms_mass = np.genfromtxt(\"./ms_mass.dat\", dtype=float, delimiter= \" \")\n",
    "dt_phi = n*(p + s*q)\n",
    "def animate(r,valstoanimate,dt,ylabel,intv = 10,y1=-5,y2=5,x1= r[0],x2 = 30,xlabel = '$x$'):\n",
    "    fig,ax = plt.subplots(figsize = (6,6))\n",
    "    ln, = ax.plot([],[])\n",
    "    ax.set_xlabel(xlabel,fontsize='15')\n",
    "    ax.set_ylabel(ylabel,fontsize = '15')\n",
    "    ax.set_xlim(x1,x2)\n",
    "    ax.set_ylim(y1,y2)\n",
    "    txt_title = ax.set_title('')\n",
    "    def drawframe(j):\n",
    "        xdata = r\n",
    "        ydata = valstoanimate[j]\n",
    "        ln.set_data(xdata,ydata)\n",
    "        time = (j)*dt\n",
    "        txt_title = ax.set_title('Time = {time}'.format(time = str(time)))\n",
    "        return ln,\n",
    "    anim = animation.FuncAnimation(fig, drawframe, frames=len(valstoanimate),interval=intv, blit=True)\n",
    "\n",
    "    return HTML(anim.to_html5_video(embed_limit=50))\n",
    "\n",
    "def getl2(arr,rad):\n",
    "    r_arr = []\n",
    "    for j in range(len(rad)):\n",
    "        a1 = arr[j][rad[j]+2:-3]\n",
    "        l2norm = (np.sum(np.abs(a1**2))/len(a1))\n",
    "        r_arr.append(   l2norm )\n",
    "        \n",
    "    return np.array(r_arr)\n",
    "#================================================================\n",
    "# gb_gr_ratio = []\n",
    "# for j in range(len(ah_dat)):\n",
    "#     nx = len(x[ah_dat[j]:-1])\n",
    "#     gb_val = np.sum(np.abs(gb[j][ah_dat[j]:-3]))/nx\n",
    "#     gb_gr_ratio.append((l_val**2)*(gb_val**(1/2)))\n",
    "    \n",
    "# gb_gr_ratio = np.array(gb_gr_ratio)\n",
    "# #================================================================\n",
    "# exci = 0\n",
    "# for j in range(len(s[-1])):\n",
    "#     if (np.abs(s[-1][j]-1) <1e-2) and s[-1][j]<1:\n",
    "#         exci = j\n",
    "#         break\n",
    "# def r_of_x(x,l=100):\n",
    "#     return l*(x/(l-x))\n",
    "\n",
    "# nx = len(s[-1])\n",
    "# extrac_rad = int(3*nx/4)\n",
    "# Mass = (r[extrac_rad]/2)*((s[-1][extrac_rad])**2)\n",
    "\n",
    "# def phi_anal(x,l,M = Mass,cl = 100):\n",
    "#     r = r_of_x(x)\n",
    "#     return (l**2)*(2/(M*r) + 2/r**2 + (8/3)*(M/r**3))\n",
    "#========================================================\n",
    "\n",
    "# animate(x,p,0.2*(x[1]-x[0]),\"p\",y1=-0.5,y2=0.5)"
   ]
  },
  {
   "cell_type": "code",
   "execution_count": 6,
   "id": "18519c3a",
   "metadata": {},
   "outputs": [
    {
     "data": {
      "image/png": "[encoded data removed]",
      "text/plain": [
       "<Figure size 432x288 with 1 Axes>"
      ]
     },
     "metadata": {
      "needs_background": "light"
     },
     "output_type": "display_data"
    }
   ],
   "source": [
    "# l=-1\n",
    "# plt.plot(x[exci_dat[l]:],np.abs(res[l][exci_dat[l]:]))\n",
    "# plt.yscale('log')\n"
   ]
  },
  {
   "cell_type": "code",
   "execution_count": null,
   "id": "02f0bc62",
   "metadata": {},
   "outputs": [],
   "source": []
  }
 ],
 "metadata": {
  "kernelspec": {
   "display_name": "Python 3 (ipykernel)",
   "language": "python",
   "name": "python3"
  },
  "language_info": {
   "codemirror_mode": {
    "name": "ipython",
    "version": 3
   },
   "file_extension": ".py",
   "mimetype": "text/x-python",
   "name": "python",
   "nbconvert_exporter": "python",
   "pygments_lexer": "ipython3",
   "version": "3.9.7"
  }
 },
 "nbformat": 4,
 "nbformat_minor": 5
}
