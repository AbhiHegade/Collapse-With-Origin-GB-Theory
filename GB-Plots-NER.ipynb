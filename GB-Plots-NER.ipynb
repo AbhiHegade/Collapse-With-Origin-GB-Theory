{
 "cells": [
  {
   "cell_type": "code",
   "execution_count": null,
   "id": "04acf56e",
   "metadata": {},
   "outputs": [],
   "source": [
    "import numpy as np\n",
    "import os\n",
    "import glob\n",
    "import matplotlib.pyplot as plt\n",
    "from scipy.optimize import curve_fit\n",
    "from matplotlib import gridspec\n",
    "import matplotlib.patches as mpatches\n",
    "from mpl_toolkits.axes_grid1 import make_axes_locatable\n",
    "\n",
    "plt.style.use('/Users/abhi/Work/Projects/Hyperbolitcity-Gravitational-Collapse/Paper/Data/science.mplstyle')"
   ]
  },
  {
   "cell_type": "code",
   "execution_count": null,
   "id": "b9692081",
   "metadata": {},
   "outputs": [],
   "source": [
    "path_files =\"../*\"\n",
    "\n",
    "dirs = glob.glob(path_files)\n",
    "dirs.remove(\"../Run_params\")\n",
    "\n",
    "# gblists = []\n",
    "# muvals = []\n",
    "# lsvals = []\n",
    "# lexpvals = []\n",
    "data_full = []\n",
    "for x in dirs:\n",
    "    with open(\"{}/sim_params.txt\".format(x)) as f:\n",
    "        for line in f:\n",
    "            if line.startswith(\"ls \"):\n",
    "                index = len(\"ls \")\n",
    "                ls = float(line[index: ])\n",
    "            elif line.startswith(\"lexp \"):\n",
    "                index = len(\"lexp \")\n",
    "                lexp = float(line[index: ])\n",
    "\n",
    "            elif line.startswith(\"mu \"):\n",
    "                index = len(\"mu \")\n",
    "                mu = float(line[index: ])\n",
    "    \n",
    "    gb = np.genfromtxt(\"{}/gb.dat\".format(x), dtype=float, delimiter=\",\")\n",
    "    ricci = np.genfromtxt(\"{}/ricci.dat\".format(x), dtype=float, delimiter=\",\")\n",
    "    ner_index = int(np.genfromtxt(\"{}/NER_index.dat\".format(x), dtype=int))\n",
    "    data_full.append([ls,lexp,mu,np.abs(gb[ner_index+5]), np.abs(ricci[ner_index+5])])\n",
    "#     muvals.append(mu)\n",
    "#     lsvals.append(ls)\n",
    "#     lexpvals.append(lexp)\n",
    "#     gblists.append(gb[ner_index])"
   ]
  },
  {
   "cell_type": "code",
   "execution_count": null,
   "id": "2f4f15c6",
   "metadata": {},
   "outputs": [],
   "source": [
    "def my_sort(arr):\n",
    "    arr = np.array(arr)\n",
    "    return arr[arr[:, 0].argsort()]\n",
    "\n",
    "data_full = my_sort(data_full)"
   ]
  },
  {
   "cell_type": "code",
   "execution_count": null,
   "id": "6d9416f3",
   "metadata": {},
   "outputs": [],
   "source": [
    "# plt.plot(data_full[:,0],data_full[:,-1])\n",
    "# plt.ylabel('$\\mathrm{Ricci}$')\n",
    "# plt.xlabel('$\\ell$')\n",
    "# plt.yscale('log')"
   ]
  },
  {
   "cell_type": "code",
   "execution_count": null,
   "id": "4ccc74a3",
   "metadata": {},
   "outputs": [],
   "source": [
    "# plt.plot(data_full[:,0],data_full[:,-2])\n",
    "# plt.ylabel('$\\cal{G}$')\n",
    "# plt.xlabel('$\\ell$')\n",
    "# plt.yscale('log')"
   ]
  }
 ],
 "metadata": {
  "kernelspec": {
   "display_name": "Python 3 (ipykernel)",
   "language": "python",
   "name": "python3"
  },
  "language_info": {
   "codemirror_mode": {
    "name": "ipython",
    "version": 3
   },
   "file_extension": ".py",
   "mimetype": "text/x-python",
   "name": "python",
   "nbconvert_exporter": "python",
   "pygments_lexer": "ipython3",
   "version": "3.9.7"
  }
 },
 "nbformat": 4,
 "nbformat_minor": 5
}
