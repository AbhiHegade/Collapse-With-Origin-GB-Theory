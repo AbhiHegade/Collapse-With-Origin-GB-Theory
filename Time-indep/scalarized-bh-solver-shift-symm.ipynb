{
 "cells": [
  {
   "cell_type": "code",
   "execution_count": 35,
   "id": "a4fb7891",
   "metadata": {},
   "outputs": [],
   "source": [
    "from scipy.integrate import odeint\n",
    "from math import sqrt,factorial\n",
    "import numpy as np\n",
    "import matplotlib.pyplot as plt\n",
    "\n",
    "atol = 1e-12\n",
    "rtol = 1e-12\n",
    "nxhigh = 100000\n",
    "epshorizon = 1e-8\n",
    "rlarge = 40"
   ]
  },
  {
   "cell_type": "code",
   "execution_count": 36,
   "id": "e8107032",
   "metadata": {},
   "outputs": [],
   "source": [
    "def rhs(y,r,ls):\n",
    "    \n",
    "    alpha,zeta,Q,phi = y\n",
    "    \n",
    "    \n",
    "    dalphadr = -0.5*(alpha*(pow(r,7)*pow(Q,2) - 24*pow(ls,2)*pow(r,6)*pow(Q,3) + 192*pow(ls,4)*pow(r,5)*pow(Q,4) - 512*pow(ls,6)*pow(r,4)*pow(Q,5) - 16*pow(ls,2)*pow(r,4)*Q*pow(zeta,2) + 384*pow(ls,4)*pow(r,3)*pow(Q,2)*pow(zeta,2) - pow(r,7)*pow(Q,2)*pow(zeta,2) - 3072*pow(ls,6)*pow(r,2)*pow(Q,3)*pow(zeta,2) + 52*pow(ls,2)*pow(r,6)*pow(Q,3)*pow(zeta,2) + 8192*pow(ls,8)*r*pow(Q,4)*pow(zeta,2) - 664*pow(ls,4)*pow(r,5)*pow(Q,4)*pow(zeta,2) + 2496*pow(ls,6)*pow(r,4)*pow(Q,5)*pow(zeta,2) + 8*pow(ls,2)*pow(r,4)*Q*pow(zeta,4) - 896*pow(ls,4)*pow(r,3)*pow(Q,2)*pow(zeta,4) + 12032*pow(ls,6)*pow(r,2)*pow(Q,3)*pow(zeta,4) - 28*pow(ls,2)*pow(r,6)*pow(Q,3)*pow(zeta,4) - 43008*pow(ls,8)*r*pow(Q,4)*pow(zeta,4) + 752*pow(ls,4)*pow(r,5)*pow(Q,4)*pow(zeta,4) - 4416*pow(ls,6)*pow(r,4)*pow(Q,5)*pow(zeta,4) - 96*pow(ls,4)*r*pow(zeta,6) + 768*pow(ls,6)*Q*pow(zeta,6) + 480*pow(ls,4)*pow(r,3)*pow(Q,2)*pow(zeta,6) - 15104*pow(ls,6)*pow(r,2)*pow(Q,3)*pow(zeta,6) + 83968*pow(ls,8)*r*pow(Q,4)*pow(zeta,6) - 280*pow(ls,4)*pow(r,5)*pow(Q,4)*pow(zeta,6) + 3392*pow(ls,6)*pow(r,4)*pow(Q,5)*pow(zeta,6) - 768*pow(ls,6)*Q*pow(zeta,8) + 6144*pow(ls,6)*pow(r,2)*pow(Q,3)*pow(zeta,8) - 72192*pow(ls,8)*r*pow(Q,4)*pow(zeta,8) - 960*pow(ls,6)*pow(r,4)*pow(Q,5)*pow(zeta,8) + 23040*pow(ls,8)*r*pow(Q,4)*pow(zeta,10)))/((-1 + pow(zeta,2))*(r - 8*pow(ls,2)*Q + 12*pow(ls,2)*Q*pow(zeta,2))*(pow(r,5) - 24*pow(ls,2)*pow(r,4)*Q + 192*pow(ls,4)*pow(r,3)*pow(Q,2) - 512*pow(ls,6)*pow(r,2)*pow(Q,3) + 28*pow(ls,2)*pow(r,4)*Q*pow(zeta,2) - 480*pow(ls,4)*pow(r,3)*pow(Q,2)*pow(zeta,2) + 2048*pow(ls,6)*pow(r,2)*pow(Q,3)*pow(zeta,2) - 96*pow(ls,4)*r*pow(zeta,4) + 768*pow(ls,6)*Q*pow(zeta,4) + 288*pow(ls,4)*pow(r,3)*pow(Q,2)*pow(zeta,4) - 2496*pow(ls,6)*pow(r,2)*pow(Q,3)*pow(zeta,4) - 768*pow(ls,6)*Q*pow(zeta,6) + 960*pow(ls,6)*pow(r,2)*pow(Q,3)*pow(zeta,6)))\n",
    "    \n",
    "    dzetadr = -0.25*(r*(-(pow(r,5)*pow(Q,2)) + 16*pow(ls,2)*pow(r,4)*pow(Q,3) - 64*pow(ls,4)*pow(r,3)*pow(Q,4) + 2*pow(r,3)*pow(zeta,2) - 384*pow(ls,4)*r*pow(Q,2)*pow(zeta,2) + pow(r,5)*pow(Q,2)*pow(zeta,2) + 2048*pow(ls,6)*pow(Q,3)*pow(zeta,2) - 32*pow(ls,2)*pow(r,4)*pow(Q,3)*pow(zeta,2) + 208*pow(ls,4)*pow(r,3)*pow(Q,4)*pow(zeta,2) + 16*pow(ls,2)*pow(r,2)*Q*pow(zeta,4) + 864*pow(ls,4)*r*pow(Q,2)*pow(zeta,4) - 7680*pow(ls,6)*pow(Q,3)*pow(zeta,4) + 16*pow(ls,2)*pow(r,4)*pow(Q,3)*pow(zeta,4) - 224*pow(ls,4)*pow(r,3)*pow(Q,4)*pow(zeta,4) - 480*pow(ls,4)*r*pow(Q,2)*pow(zeta,6) + 9472*pow(ls,6)*pow(Q,3)*pow(zeta,6) + 80*pow(ls,4)*pow(r,3)*pow(Q,4)*pow(zeta,6) - 3840*pow(ls,6)*pow(Q,3)*pow(zeta,8)))/(zeta*(pow(r,5) - 24*pow(ls,2)*pow(r,4)*Q + 192*pow(ls,4)*pow(r,3)*pow(Q,2) - 512*pow(ls,6)*pow(r,2)*pow(Q,3) + 28*pow(ls,2)*pow(r,4)*Q*pow(zeta,2) - 480*pow(ls,4)*pow(r,3)*pow(Q,2)*pow(zeta,2) + 2048*pow(ls,6)*pow(r,2)*pow(Q,3)*pow(zeta,2) - 96*pow(ls,4)*r*pow(zeta,4) + 768*pow(ls,6)*Q*pow(zeta,4) + 288*pow(ls,4)*pow(r,3)*pow(Q,2)*pow(zeta,4) - 2496*pow(ls,6)*pow(r,2)*pow(Q,3)*pow(zeta,4) - 768*pow(ls,6)*Q*pow(zeta,6) + 960*pow(ls,6)*pow(r,2)*pow(Q,3)*pow(zeta,6)))\n",
    "    \n",
    "    dQdr = (2*pow(r,4)*Q - 48*pow(ls,2)*pow(r,3)*pow(Q,2) + 384*pow(ls,4)*pow(r,2)*pow(Q,3) - 1024*pow(ls,6)*r*pow(Q,4) - pow(ls,2)*pow(r,5)*pow(Q,4) + 8*pow(ls,4)*pow(r,4)*pow(Q,5) - pow(r,4)*Q*pow(zeta,2) + 100*pow(ls,2)*pow(r,3)*pow(Q,2)*pow(zeta,2) - 1408*pow(ls,4)*pow(r,2)*pow(Q,3)*pow(zeta,2) + 5376*pow(ls,6)*r*pow(Q,4)*pow(zeta,2) + 2*pow(ls,2)*pow(r,5)*pow(Q,4)*pow(zeta,2) - 16*pow(ls,4)*pow(r,4)*pow(Q,5)*pow(zeta,2) + 12*pow(ls,2)*r*pow(zeta,4) - 96*pow(ls,4)*Q*pow(zeta,4) - 48*pow(ls,2)*pow(r,3)*pow(Q,2)*pow(zeta,4) + 1696*pow(ls,4)*pow(r,2)*pow(Q,3)*pow(zeta,4) - 10496*pow(ls,6)*r*pow(Q,4)*pow(zeta,4) - pow(ls,2)*pow(r,5)*pow(Q,4)*pow(zeta,4) + 8*pow(ls,4)*pow(r,4)*pow(Q,5)*pow(zeta,4) + 96*pow(ls,4)*Q*pow(zeta,6) - 672*pow(ls,4)*pow(r,2)*pow(Q,3)*pow(zeta,6) + 9024*pow(ls,6)*r*pow(Q,4)*pow(zeta,6) - 2880*pow(ls,6)*r*pow(Q,4)*pow(zeta,8))/((-1 + pow(zeta,2))*(pow(r,5) - 24*pow(ls,2)*pow(r,4)*Q + 192*pow(ls,4)*pow(r,3)*pow(Q,2) - 512*pow(ls,6)*pow(r,2)*pow(Q,3) + 28*pow(ls,2)*pow(r,4)*Q*pow(zeta,2) - 480*pow(ls,4)*pow(r,3)*pow(Q,2)*pow(zeta,2) + 2048*pow(ls,6)*pow(r,2)*pow(Q,3)*pow(zeta,2) - 96*pow(ls,4)*r*pow(zeta,4) + 768*pow(ls,6)*Q*pow(zeta,4) + 288*pow(ls,4)*pow(r,3)*pow(Q,2)*pow(zeta,4) - 2496*pow(ls,6)*pow(r,2)*pow(Q,3)*pow(zeta,4) - 768*pow(ls,6)*Q*pow(zeta,6) + 960*pow(ls,6)*pow(r,2)*pow(Q,3)*pow(zeta,6)))\n",
    "    \n",
    "    dphidr = Q\n",
    "    \n",
    "    dydt = np.array([dalphadr, dzetadr, dQdr, dphidr])\n",
    "\n",
    "    return dydt\n",
    "    "
   ]
  },
  {
   "cell_type": "code",
   "execution_count": 37,
   "id": "4312bf6e",
   "metadata": {},
   "outputs": [],
   "source": [
    "def get_ic(eps,ls):\n",
    "    \n",
    "    alpha0 = 0.5\n",
    "    \n",
    "    phi1 = (-1 + sqrt(1 - 192*pow(ls,4)))/(8.*pow(ls,2))\n",
    "    \n",
    "    s1 = -0.5*1/(1 + 4*pow(ls,2)*phi1)\n",
    "    \n",
    "    alpha1 = (alpha0*(12*pow(ls,2) - 2496*pow(ls,6) + phi1 - 64*pow(ls,4)*phi1 - 768*pow(ls,8)*phi1 + 4*pow(ls,2)*pow(phi1,2) + 1280*pow(ls,8)*pow(phi1,3) + 1024*pow(ls,10)*pow(phi1,4)))/(8.*pow(ls,2)*(-1 + 96*pow(ls,4) - 4*pow(ls,2)*phi1)*(1 + 4*pow(ls,2)*phi1))\n",
    "    \n",
    "    s2 = (6*pow(ls,2) - 3744*pow(ls,6) + 69120*pow(ls,10) + phi1 - 240*pow(ls,4)*phi1 + 55296*pow(ls,12)*phi1 - 16*pow(ls,4)*pow(phi1,3) + 2688*pow(ls,8)*pow(phi1,3))/(8.*pow(ls,2)*(-1 + 96*pow(ls,4) - 4*pow(ls,2)*phi1)*pow(1 + 4*pow(ls,2)*phi1,3))\n",
    "    \n",
    "    phi2 = (-84*pow(ls,2) - phi1 - 48*pow(ls,4)*phi1 + 80*pow(ls,4)*pow(phi1,3) + 64*pow(ls,6)*pow(phi1,4))/(2.*(-1 + 96*pow(ls,4) - 4*pow(ls,2)*phi1))\n",
    "    \n",
    "    alpha = 0.5 + alpha1*eps\n",
    "    \n",
    "    zeta = 1 + eps*s1 + eps*eps*0.5*s2\n",
    "    \n",
    "    Q = phi1 + eps*phi2\n",
    "    \n",
    "    phi = 0.1 + eps*phi1 + eps*eps*0.5*phi2\n",
    "    \n",
    "    return np.array([alpha,zeta,Q,phi])"
   ]
  },
  {
   "cell_type": "code",
   "execution_count": 38,
   "id": "70a9c9d3",
   "metadata": {},
   "outputs": [],
   "source": [
    "def solve_ODE_scaled(r_arr,eps,ls):\n",
    "\n",
    "    assert r_arr[0] == 1 + eps, \"Starting point is not the same as initial grid size eps\"\n",
    "\n",
    "    y0 = get_ic(eps,ls)\n",
    "\n",
    "    sol =  odeint(rhs, y0, r_arr,args = (ls,),atol=atol,rtol=rtol,hmax = 1e-2)\n",
    "\n",
    "    return sol"
   ]
  },
  {
   "cell_type": "code",
   "execution_count": 39,
   "id": "d1887273",
   "metadata": {},
   "outputs": [],
   "source": [
    "def solve_rescale(ls):\n",
    "    r_arr = np.linspace(1+epshorizon,rlarge,nxhigh)\n",
    "    sol = solve_ODE_scaled(r_arr,epshorizon,ls).T\n",
    "    \n",
    "    Q = sol[-2]\n",
    "    phiasym = sol[-1][-1]\n",
    "    \n",
    "    phi = sol[-1] - phiasym\n",
    "    \n",
    "    return r_arr,Q,phi\n",
    "    \n",
    "    "
   ]
  },
  {
   "cell_type": "code",
   "execution_count": 40,
   "id": "166be6f2",
   "metadata": {},
   "outputs": [
    {
     "data": {
      "text/plain": [
       "(array([ 1.00000001,  1.00039001,  1.00078002, ..., 39.99921999,\n",
       "        39.99961   , 40.        ]),\n",
       " array([-1.20581593e-01, -1.20439483e-01, -1.20297611e-01, ...,\n",
       "        -2.56425544e-05, -2.56420479e-05, -2.56415415e-05]),\n",
       " array([7.24412774e-02, 7.23942778e-02, 7.23473336e-02, ...,\n",
       "        2.00009974e-08, 1.00003999e-08, 0.00000000e+00]))"
      ]
     },
     "execution_count": 40,
     "metadata": {},
     "output_type": "execute_result"
    }
   ],
   "source": [
    "solve_rescale(0.1)"
   ]
  },
  {
   "cell_type": "code",
   "execution_count": 20,
   "id": "0a129e0d",
   "metadata": {},
   "outputs": [],
   "source": [
    "def r_of_x(x,cl=100):\n",
    "    r = x/(1 - pow(x,2)/pow(cl,2))\n",
    "    return r"
   ]
  },
  {
   "cell_type": "code",
   "execution_count": 22,
   "id": "1fd49c1a",
   "metadata": {},
   "outputs": [
    {
     "data": {
      "text/plain": [
       "[<matplotlib.lines.Line2D at 0x7fc15b755820>]"
      ]
     },
     "execution_count": 22,
     "metadata": {},
     "output_type": "execute_result"
    },
    {
     "data": {
      "image/png": "[encoded data removed]",
      "text/plain": [
       "<Figure size 432x288 with 1 Axes>"
      ]
     },
     "metadata": {
      "needs_background": "light"
     },
     "output_type": "display_data"
    }
   ],
   "source": [
    "plt.plot(np.linspace(1+1e-6,10,100), sol[:,-1])"
   ]
  },
  {
   "cell_type": "code",
   "execution_count": null,
   "id": "3e6cc1c7",
   "metadata": {},
   "outputs": [],
   "source": []
  }
 ],
 "metadata": {
  "kernelspec": {
   "display_name": "Python 3 (ipykernel)",
   "language": "python",
   "name": "python3"
  },
  "language_info": {
   "codemirror_mode": {
    "name": "ipython",
    "version": 3
   },
   "file_extension": ".py",
   "mimetype": "text/x-python",
   "name": "python",
   "nbconvert_exporter": "python",
   "pygments_lexer": "ipython3",
   "version": "3.9.7"
  }
 },
 "nbformat": 4,
 "nbformat_minor": 5
}
