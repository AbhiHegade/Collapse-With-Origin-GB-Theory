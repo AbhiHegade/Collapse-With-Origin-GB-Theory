{
 "cells": [
  {
   "cell_type": "code",
   "execution_count": 5,
   "id": "bb36c044",
   "metadata": {},
   "outputs": [],
   "source": [
    "import os\n",
    "import numpy as np\n",
    "#Return Code:\n",
    "#0 - Run Successful\n",
    "#1 - Naked Elliptic Region\n",
    "#2 - Nan\n",
    "#3 - Problem with run.\n",
    "\n",
    "#Data Record:\n",
    "# [l, A, reutrn code]\n",
    "\n",
    "path_to_dir = \"/Users/abhi/Work/Projects/Hyperbolitcity-Gravitational-Collapse/code-f-phi/output/Phase-Space/Shift-Symmetric-Theory/\"\n",
    "\n",
    "dir_names = [ f.path for f in os.scandir(path_to_dir) if f.is_dir() ]\n",
    "\n",
    "# dir_names = [x[0] for x in os.walk(path_to_dir)][1:]\n",
    "\n",
    "output_files = []\n",
    "sim_params = []\n",
    "\n",
    "for name in dir_names:\n",
    "    output_files.append(name+\"/output.out\")\n",
    "    sim_params.append(name+\"/sim_params.txt\")\n",
    "\n",
    "record_data = []\n",
    "\n",
    "for j in range(len(sim_params)):\n",
    "    l = 0\n",
    "    A = 0\n",
    "    with open(sim_params[j]) as f:\n",
    "        for line in f:\n",
    "            if line.startswith(\"l\"):\n",
    "                l = float(line[2:])\n",
    "            elif line.startswith(\"A\"):\n",
    "                A = float(line[2:])\n",
    "            else:\n",
    "                pass\n",
    "        record_data.append([l,A])\n",
    "\n",
    "for j in range(len(sim_params)):\n",
    "    with open(output_files[j]) as f:\n",
    "        for line in f:\n",
    "            pass\n",
    "        last_line = line\n",
    "        if last_line.startswith(\"run finished successfully\"):\n",
    "            record_data[j].append(0)\n",
    "        elif last_line.startswith(\"naked\"):\n",
    "            record_data[j].append(1)\n",
    "        elif last_line.startswith(\"NaN(\"):\n",
    "            record_data[j].append(2)\n",
    "        else:\n",
    "            print(\"Some problem with run.\\nFile name = \",output_files[j])\n",
    "            print(\"Last line reads,\\n\", last_line)\n",
    "            record_data[j].append(3)"
   ]
  },
  {
   "cell_type": "code",
   "execution_count": 6,
   "id": "08d52a96",
   "metadata": {},
   "outputs": [],
   "source": [
    "record_data = np.array(record_data)"
   ]
  },
  {
   "cell_type": "code",
   "execution_count": 13,
   "id": "3956fbf6",
   "metadata": {},
   "outputs": [],
   "source": [
    "def print_out(j):\n",
    "    with open(output_files[j]) as f:\n",
    "            for line in f:\n",
    "                print(line)"
   ]
  },
  {
   "cell_type": "code",
   "execution_count": 35,
   "id": "e8e563ac",
   "metadata": {},
   "outputs": [
    {
     "name": "stdout",
     "output_type": "stream",
     "text": [
      "Saving file at : /Users/abhi/Work/Projects/Hyperbolitcity-Gravitational-Collapse/code-f-phi/output/Phase-Space/Shift-Symmetric-Theory/Fri_Jul_1_11_11_34_36_A_4.21e-01_l_5.00e-01\n",
      "\n",
      "nx = 4000\n",
      "\n",
      "nt = 4000\n",
      "\n",
      "t_save_steps = 100\n",
      "\n",
      "dx = 0.025\n",
      "\n",
      "dt = 0.005\n",
      "\n",
      "GB coupling l = 0.5\n",
      "\n",
      "Scalar Field Amplitude = 0.421111\n",
      "\n",
      "ru = 12\n",
      "\n",
      "rl = 8\n",
      "\n",
      "Starting simulation...\n",
      "\n",
      "Found apparent horizon at i = 742 , r = 11.3874 , t = 0\n",
      "\n",
      "Previous excision point at i = 0 , r = 0.0031252\n",
      "\n",
      "Updating excision point....\n",
      "\n",
      "done.\n",
      "\n",
      "Final time = 20\n",
      "\n",
      "run finished successfully.\n",
      "\n"
     ]
    }
   ],
   "source": [
    "print_out(4)"
   ]
  },
  {
   "cell_type": "code",
   "execution_count": 7,
   "id": "39162b32",
   "metadata": {},
   "outputs": [
    {
     "data": {
      "text/plain": [
       "array([[5.00000000e-01, 1.00000000e+00, 0.00000000e+00],\n",
       "       [5.00000000e-01, 6.84242105e-01, 0.00000000e+00],\n",
       "       [5.00000000e-01, 6.31615789e-01, 0.00000000e+00],\n",
       "       [5.00000000e-01, 1.05352632e-01, 1.00000000e+00],\n",
       "       [5.00000000e-01, 4.21110526e-01, 0.00000000e+00],\n",
       "       [5.00000000e-01, 5.27263158e-02, 1.00000000e+00],\n",
       "       [5.00000000e-01, 2.10605263e-01, 1.00000000e+00],\n",
       "       [5.00000000e-01, 4.73736842e-01, 0.00000000e+00],\n",
       "       [5.00000000e-01, 3.68484211e-01, 0.00000000e+00],\n",
       "       [5.00000000e-01, 1.00000000e-04, 0.00000000e+00],\n",
       "       [5.00000000e-01, 7.36868421e-01, 0.00000000e+00],\n",
       "       [5.00000000e-01, 5.78989474e-01, 0.00000000e+00],\n",
       "       [5.00000000e-01, 8.94747368e-01, 0.00000000e+00],\n",
       "       [5.00000000e-01, 1.57978947e-01, 1.00000000e+00],\n",
       "       [5.00000000e-01, 2.63231579e-01, 1.00000000e+00],\n",
       "       [5.00000000e-01, 5.26363158e-01, 0.00000000e+00],\n",
       "       [5.00000000e-01, 9.47373684e-01, 0.00000000e+00],\n",
       "       [5.00000000e-01, 8.42121053e-01, 0.00000000e+00],\n",
       "       [5.00000000e-01, 3.15857895e-01, 0.00000000e+00],\n",
       "       [5.00000000e-01, 7.89494737e-01, 0.00000000e+00]])"
      ]
     },
     "execution_count": 7,
     "metadata": {},
     "output_type": "execute_result"
    }
   ],
   "source": [
    "record_data"
   ]
  },
  {
   "cell_type": "code",
   "execution_count": null,
   "id": "849180f9",
   "metadata": {},
   "outputs": [],
   "source": []
  }
 ],
 "metadata": {
  "kernelspec": {
   "display_name": "Python 3 (ipykernel)",
   "language": "python",
   "name": "python3"
  },
  "language_info": {
   "codemirror_mode": {
    "name": "ipython",
    "version": 3
   },
   "file_extension": ".py",
   "mimetype": "text/x-python",
   "name": "python",
   "nbconvert_exporter": "python",
   "pygments_lexer": "ipython3",
   "version": "3.9.7"
  }
 },
 "nbformat": 4,
 "nbformat_minor": 5
}
