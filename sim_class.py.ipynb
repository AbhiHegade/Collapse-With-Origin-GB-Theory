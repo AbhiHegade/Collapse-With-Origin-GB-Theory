{
 "cells": [
  {
   "cell_type": "code",
   "execution_count": 56,
   "id": "186a34ca",
   "metadata": {},
   "outputs": [],
   "source": [
    "from datetime import datetime\n",
    "import os, sys, time, shutil, subprocess\n",
    "\n",
    "class Sim:\n",
    "    def __init__(self):\n",
    "        self.home_dir = str(os.getcwd())\n",
    "        self.out_dir = self.home_dir + \"/output\"\n",
    "#===============================================================\n",
    "    def make_output_dir(self):\n",
    "        current_time = datetime.now()\n",
    "        self.output_dir = self.out_dir + \"/\" + current_time.strftime(\"%a\")+\"_\"+current_time.strftime(\"%b\")+\"_\"+ str(current_time.day) +\"_\"+ str(current_time.hour) + \"_\" + str(current_time.hour)+\"_\"+str(current_time.minute)+\"_\"+str(current_time.second)\n",
    "        if not os.path.exists(self.output_dir):\n",
    "            os.makedirs(self.output_dir)\n",
    "#===============================================================\n",
    "    def write_sim_params(self):\n",
    "        with open(self.output_dir+'/sim_params.txt','w') as f:\n",
    "            attrs= vars(self)\n",
    "            for param in attrs:\n",
    "                f.write('{} {}\\n'.format(param,attrs[param]))\n",
    "#===============================================================\n",
    "    def make_output_file(self):\n",
    "        self.output_file= self.output_dir+'/'+'output.out'\n",
    "        with open(self.output_file, 'w') as f:\n",
    "            pass\n",
    "#===============================================================\n",
    "    def launch(self):\n",
    "        self.make_output_dir()\n",
    "        self.make_output_file()\n",
    "        self.write_sim_params()      \n",
    "        subprocess.call('\\n./bin/default.run {} > {}/output.out'.format(self.output_dir,self.output_dir), shell=True)"
   ]
  },
  {
   "cell_type": "code",
   "execution_count": null,
   "id": "b1650cab",
   "metadata": {},
   "outputs": [],
   "source": []
  }
 ],
 "metadata": {
  "kernelspec": {
   "display_name": "Python 3 (ipykernel)",
   "language": "python",
   "name": "python3"
  },
  "language_info": {
   "codemirror_mode": {
    "name": "ipython",
    "version": 3
   },
   "file_extension": ".py",
   "mimetype": "text/x-python",
   "name": "python",
   "nbconvert_exporter": "python",
   "pygments_lexer": "ipython3",
   "version": "3.9.7"
  }
 },
 "nbformat": 4,
 "nbformat_minor": 5
}
