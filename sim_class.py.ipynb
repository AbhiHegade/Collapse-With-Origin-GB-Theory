{
 "cells": [
  {
   "cell_type": "code",
   "execution_count": 2,
   "id": "8ee98f0f",
   "metadata": {},
   "outputs": [],
   "source": [
    "import numpy as np"
   ]
  },
  {
   "cell_type": "code",
   "execution_count": 3,
   "id": "a5b1eed1",
   "metadata": {},
   "outputs": [],
   "source": [
    "arr = np.concatenate((np.linspace(1e-4,1e-3,10), np.linspace(1e-3,1e-2,10),np.linspace(1e-2,1e-1,10),np.linspace(1e-1,1,5)))"
   ]
  },
  {
   "cell_type": "code",
   "execution_count": 5,
   "id": "ce1b4b70",
   "metadata": {},
   "outputs": [],
   "source": [
    "arr = np.unique(arr)"
   ]
  },
  {
   "cell_type": "code",
   "execution_count": 7,
   "id": "220d8ba1",
   "metadata": {},
   "outputs": [
    {
     "data": {
      "text/plain": [
       "32"
      ]
     },
     "execution_count": 7,
     "metadata": {},
     "output_type": "execute_result"
    }
   ],
   "source": [
    "len(arr)"
   ]
  },
  {
   "cell_type": "code",
   "execution_count": null,
   "id": "257c7025",
   "metadata": {},
   "outputs": [],
   "source": []
  },
  {
   "cell_type": "code",
   "execution_count": null,
   "id": "9b5ad16c",
   "metadata": {},
   "outputs": [],
   "source": []
  },
  {
   "cell_type": "code",
   "execution_count": null,
   "id": "faa3e3f2",
   "metadata": {},
   "outputs": [],
   "source": []
  },
  {
   "cell_type": "code",
   "execution_count": null,
   "id": "63799a4a",
   "metadata": {},
   "outputs": [],
   "source": []
  },
  {
   "cell_type": "code",
   "execution_count": null,
   "id": "9f527b59",
   "metadata": {},
   "outputs": [],
   "source": []
  },
  {
   "cell_type": "code",
   "execution_count": 1,
   "id": "e328f3e6",
   "metadata": {},
   "outputs": [],
   "source": [
    "from datetime import datetime\n",
    "import os, sys, time, shutil, subprocess"
   ]
  },
  {
   "cell_type": "code",
   "execution_count": 3,
   "id": "6912b760",
   "metadata": {},
   "outputs": [],
   "source": [
    "time = datetime.utcnow()"
   ]
  },
  {
   "cell_type": "code",
   "execution_count": 4,
   "id": "be9358d4",
   "metadata": {},
   "outputs": [
    {
     "data": {
      "text/plain": [
       "datetime.datetime(2022, 7, 3, 16, 53, 37, 984247)"
      ]
     },
     "execution_count": 4,
     "metadata": {},
     "output_type": "execute_result"
    }
   ],
   "source": [
    "time"
   ]
  },
  {
   "cell_type": "code",
   "execution_count": 56,
   "id": "186a34ca",
   "metadata": {},
   "outputs": [],
   "source": [
    "class Sim:\n",
    "    def __init__(self):\n",
    "        self.home_dir = str(os.getcwd())\n",
    "        self.out_dir = self.home_dir + \"/output\"\n",
    "#===============================================================\n",
    "    def make_output_dir(self):\n",
    "        current_time = datetime.now()\n",
    "        self.output_dir = self.out_dir + \"/\" + current_time.strftime(\"%a\")+\"_\"+current_time.strftime(\"%b\")+\"_\"+ str(current_time.day) +\"_\"+ str(current_time.hour) + \"_\" + str(current_time.hour)+\"_\"+str(current_time.minute)+\"_\"+str(current_time.second)\n",
    "        if not os.path.exists(self.output_dir):\n",
    "            os.makedirs(self.output_dir)\n",
    "#===============================================================\n",
    "    def write_sim_params(self):\n",
    "        with open(self.output_dir+'/sim_params.txt','w') as f:\n",
    "            attrs= vars(self)\n",
    "            for param in attrs:\n",
    "                f.write('{} {}\\n'.format(param,attrs[param]))\n",
    "#===============================================================\n",
    "    def make_output_file(self):\n",
    "        self.output_file= self.output_dir+'/'+'output.out'\n",
    "        with open(self.output_file, 'w') as f:\n",
    "            pass\n",
    "#===============================================================\n",
    "    def launch(self):\n",
    "        self.make_output_dir()\n",
    "        self.make_output_file()\n",
    "        self.write_sim_params()      \n",
    "        subprocess.call('\\n./bin/default.run {} > {}/output.out'.format(self.output_dir,self.output_dir), shell=True)"
   ]
  },
  {
   "cell_type": "code",
   "execution_count": null,
   "id": "b1650cab",
   "metadata": {},
   "outputs": [],
   "source": []
  }
 ],
 "metadata": {
  "kernelspec": {
   "display_name": "Python 3 (ipykernel)",
   "language": "python",
   "name": "python3"
  },
  "language_info": {
   "codemirror_mode": {
    "name": "ipython",
    "version": 3
   },
   "file_extension": ".py",
   "mimetype": "text/x-python",
   "name": "python",
   "nbconvert_exporter": "python",
   "pygments_lexer": "ipython3",
   "version": "3.9.7"
  }
 },
 "nbformat": 4,
 "nbformat_minor": 5
}
